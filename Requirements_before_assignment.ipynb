{
  "cells": [
    {
      "cell_type": "markdown",
      "metadata": {
        "id": "oIq2g05OGt8v"
      },
      "source": [
        "Requirement before starting the assignment to avoid losing progress"
      ]
    },
    {
      "cell_type": "code",
      "execution_count": null,
      "metadata": {
        "id": "Sl6J6XMNGff8"
      },
      "outputs": [],
      "source": [
        "# Clone the GitHub Repository in Colab so that we can access the data required to run the script\n",
        "!git clone https://github.com/a-charbel/Sizing_HPP_Assignment.git"
      ]
    },
    {
      "cell_type": "markdown",
      "metadata": {
        "id": "JOxGXeZ6G9om"
      },
      "source": [
        "To avoid losing your progress, save the cloned folder and script in your google drive.\n"
      ]
    },
    {
      "cell_type": "code",
      "execution_count": null,
      "metadata": {
        "id": "Xvs6gvAmGdM7"
      },
      "outputs": [],
      "source": [
        "# First mount your Google Drive\n",
        "from google.colab import drive\n",
        "drive.mount('/content/drive')\n",
        "\n",
        "# Then copy the cloned repository to your folder\n",
        "!cp -r \"/content/Sizing_HPP_Assignment/\" \"/content/drive/My Drive/Sizing_HPP_Assignment/\""
      ]
    },
    {
      "cell_type": "markdown",
      "metadata": {
        "id": "9aoDSEk6Gimd"
      },
      "source": [
        "Now you should navigate to where you have saved the cloned repository in your Google Drive (My Drive/Sizing_HPP_Assignment/). And start the assignment using the sizing_exercise_questions.ipynb file"
      ]
    },
    {
      "cell_type": "code",
      "execution_count": null,
      "metadata": {
        "id": "iQBbD3YGHbsV"
      },
      "outputs": [],
      "source": []
    }
  ],
  "metadata": {
    "colab": {
      "provenance": []
    },
    "kernelspec": {
      "display_name": "Python 3",
      "name": "python3"
    },
    "language_info": {
      "name": "python"
    }
  },
  "nbformat": 4,
  "nbformat_minor": 0
}
