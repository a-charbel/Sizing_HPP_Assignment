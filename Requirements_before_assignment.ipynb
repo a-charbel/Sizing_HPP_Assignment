{
  "nbformat": 4,
  "nbformat_minor": 0,
  "metadata": {
    "colab": {
      "provenance": []
    },
    "kernelspec": {
      "name": "python3",
      "display_name": "Python 3"
    },
    "language_info": {
      "name": "python"
    }
  },
  "cells": [
    {
      "cell_type": "markdown",
      "source": [
        "Requirement before starting the assignment to avoid losing progress"
      ],
      "metadata": {
        "id": "oIq2g05OGt8v"
      }
    },
    {
      "cell_type": "code",
      "source": [
        "# Clone the GitHub Repository in Colab so that we can access the data required to run the script\n",
        "!git clone https://github.com/a-charbel/Sizing_HPP_Assignment_2024.git"
      ],
      "metadata": {
        "id": "Sl6J6XMNGff8"
      },
      "execution_count": null,
      "outputs": []
    },
    {
      "cell_type": "markdown",
      "source": [
        "To avoid losing your progress, save the cloned folder and script in your google drive.\n"
      ],
      "metadata": {
        "id": "JOxGXeZ6G9om"
      }
    },
    {
      "cell_type": "code",
      "execution_count": null,
      "metadata": {
        "id": "Xvs6gvAmGdM7"
      },
      "outputs": [],
      "source": [
        "# First mount your Google Drive\n",
        "from google.colab import drive\n",
        "drive.mount('/content/drive')\n",
        "\n",
        "# Then copy the cloned repository to your folder\n",
        "!cp -r \"/content/Sizing_HPP_Assignment_2024/\" \"/content/drive/My Drive/Sizing_HPP_Assignment_2024/\""
      ]
    },
    {
      "cell_type": "markdown",
      "source": [
        "Now you should navigate to where you have saved the cloned repository in your Google Drive (My Drive/Sizing_HPP_Assignment_2024/). And start the assignment using the sizing_exercise_questions.ipynb file"
      ],
      "metadata": {
        "id": "9aoDSEk6Gimd"
      }
    },
    {
      "cell_type": "code",
      "source": [],
      "metadata": {
        "id": "iQBbD3YGHbsV"
      },
      "execution_count": null,
      "outputs": []
    }
  ]
}